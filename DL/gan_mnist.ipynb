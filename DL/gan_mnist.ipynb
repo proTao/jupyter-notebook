{
 "cells": [
  {
   "cell_type": "code",
   "execution_count": 1,
   "metadata": {},
   "outputs": [
    {
     "name": "stdout",
     "output_type": "stream",
     "text": [
      "Extracting /home/tao/tao/DeepLearning/MNIST_data/train-images-idx3-ubyte.gz\n",
      "Extracting /home/tao/tao/DeepLearning/MNIST_data/train-labels-idx1-ubyte.gz\n",
      "Extracting /home/tao/tao/DeepLearning/MNIST_data/t10k-images-idx3-ubyte.gz\n",
      "Extracting /home/tao/tao/DeepLearning/MNIST_data/t10k-labels-idx1-ubyte.gz\n"
     ]
    }
   ],
   "source": [
    "import tensorflow as tf\n",
    "import numpy as np\n",
    "import pickle\n",
    "import matplotlib.pyplot as plt\n",
    "\n",
    "from tensorflow.examples.tutorials.mnist import input_data\n",
    "mnist = input_data.read_data_sets('/home/tao/tao/DeepLearning/MNIST_data')"
   ]
  },
  {
   "cell_type": "code",
   "execution_count": 2,
   "metadata": {},
   "outputs": [],
   "source": [
    "def get_inputs(real_size, noise_size):\n",
    "    \"\"\"\n",
    "    real image tensor and noise image tensor\n",
    "    \"\"\"\n",
    "    real_img = tf.placeholder(tf.float32, (None, real_size), name=\"real_img\")\n",
    "    noise_img = tf.placeholder(tf.float32, (None, noise_size), name=\"noise_img\")\n",
    "\n",
    "    return real_img, noise_img\n",
    "\n",
    "def get_generator(noise_img, n_units, out_dim, reuse=False, alpha=0.01, name=\"default_generator\"):\n",
    "    \"\"\"\n",
    "    generator\n",
    "\n",
    "    noise_img: input\n",
    "    n_units: how many hidden unit\n",
    "    out_dim: \n",
    "    alpha: the parameter og LRelu\n",
    "    \"\"\"\n",
    "\n",
    "    with tf.variable_scope(\"generator\", reuse = reuse):\n",
    "        with tf.name_scope(name):\n",
    "            with tf.name_scope(\"dense\"):\n",
    "                # hidden layer\n",
    "                hidden1 = tf.layers.dense(noise_img, n_units)\n",
    "                # leaky relu\n",
    "                lrelu = tf.maximum(alpha*hidden1, hidden1)\n",
    "            with tf.name_scope(\"dropout\"):\n",
    "                # dropout\n",
    "                dropout = tf.layers.dropout(lrelu, rate=0.2)\n",
    "\n",
    "            with tf.name_scope(\"logits\"):\n",
    "                # logit and output\n",
    "                logits = tf.layers.dense(dropout, out_dim)\n",
    "                outputs = tf.tanh(logits)\n",
    "\n",
    "    return logits, outputs\n",
    "    \n",
    "def get_discriminator(img, n_units, reuse=False, alpha=0.01, name=\"default_discriminator\"):\n",
    "    \"\"\"\n",
    "    parameter like generator\n",
    "    \"\"\"\n",
    "\n",
    "    with tf.variable_scope(\"discriminator\", reuse=reuse):\n",
    "        with tf.name_scope(name):\n",
    "            with tf.name_scope(\"dense\"):\n",
    "                # hidden layer\n",
    "                hidden1 = tf.layers.dense(img, n_units)\n",
    "                # relu\n",
    "                lrelu = tf.maximum(alpha*hidden1, hidden1)\n",
    "\n",
    "            with tf.name_scope(\"logits\"):\n",
    "                # logits and outputs\n",
    "                logits = tf.layers.dense(lrelu, 1)\n",
    "                outputs = tf.sigmoid(logits)\n",
    "\n",
    "    return logits, outputs"
   ]
  },
  {
   "cell_type": "markdown",
   "metadata": {},
   "source": [
    "## 定义参数"
   ]
  },
  {
   "cell_type": "code",
   "execution_count": 3,
   "metadata": {
    "collapsed": true
   },
   "outputs": [],
   "source": [
    "# 定义参数\n",
    "# 真实图像的size\n",
    "img_size = mnist.train.images[0].shape[0]\n",
    "# 传入给generator的噪声size\n",
    "noise_size = 100\n",
    "# 生成器隐层参数\n",
    "g_units = 128\n",
    "# 判别器隐层参数\n",
    "d_units = 128\n",
    "# leaky ReLU的参数\n",
    "alpha = 0.01\n",
    "# learning_rate\n",
    "learning_rate = 0.001\n",
    "# label smoothing\n",
    "smooth = 0.1"
   ]
  },
  {
   "cell_type": "markdown",
   "metadata": {},
   "source": [
    "## 定义网络"
   ]
  },
  {
   "cell_type": "code",
   "execution_count": 4,
   "metadata": {},
   "outputs": [],
   "source": [
    "tf.reset_default_graph()\n",
    "\n",
    "real_img, noise_img = get_inputs(img_size, noise_size)\n",
    "\n",
    "# generator\n",
    "g_logits, g_outputs = get_generator(noise_img, g_units, img_size, name=\"generator\")\n",
    "\n",
    "# discriminator\n",
    "d_logits_real, d_outputs_real = get_discriminator(real_img, d_units, name=\"real_D\")\n",
    "d_logits_fake, d_outputs_fake = get_discriminator(g_outputs, d_units, reuse=True, name=\"fake_D\")\n",
    "\n"
   ]
  },
  {
   "cell_type": "markdown",
   "metadata": {},
   "source": [
    "## 损失函数"
   ]
  },
  {
   "cell_type": "code",
   "execution_count": 5,
   "metadata": {},
   "outputs": [],
   "source": [
    "# discriminator的loss\n",
    "# 识别真实图片\n",
    "\n",
    "with tf.name_scope(\"loss\"):\n",
    "    with tf.name_scope(\"d_loss\"):\n",
    "        d_loss_real = tf.reduce_mean(tf.nn.sigmoid_cross_entropy_with_logits(logits=d_logits_real, \n",
    "                                                                         labels=tf.ones_like(d_logits_real)) * (1 - smooth))\n",
    "        # 识别生成的图片\n",
    "        d_loss_fake = tf.reduce_mean(tf.nn.sigmoid_cross_entropy_with_logits(logits=d_logits_fake, \n",
    "                                                                         labels=tf.zeros_like(d_logits_fake)))\n",
    "        # D-loss\n",
    "        d_loss = tf.add(d_loss_real, d_loss_fake)\n",
    "        tf.summary.scalar('d_real_loss', d_loss_real)\n",
    "        tf.summary.scalar(\"d_fake_loss\", d_loss_fake)\n",
    "        tf.summary.scalar(\"d_loss\", d_loss)\n",
    "\n",
    "    with tf.name_scope(\"g_loss\"):\n",
    "        # generator的loss\n",
    "        g_loss = tf.reduce_mean(tf.nn.sigmoid_cross_entropy_with_logits(logits=d_logits_fake,\n",
    "                                                                    labels=tf.ones_like(d_logits_fake)) * (1 - smooth))\n",
    "        tf.summary.scalar(\"g_loss\", g_loss)\n",
    "\n",
    "    with tf.name_scope(\"global_loss\"):\n",
    "        # 总loss\n",
    "        global_loss = tf.add(d_loss, g_loss)\n",
    "        tf.summary.scalar(\"global_loss\", global_loss)"
   ]
  },
  {
   "cell_type": "markdown",
   "metadata": {},
   "source": [
    "## 优化目标"
   ]
  },
  {
   "cell_type": "code",
   "execution_count": 6,
   "metadata": {
    "collapsed": true
   },
   "outputs": [],
   "source": [
    "train_vars = tf.trainable_variables()\n",
    "\n",
    "# generator中的tensor\n",
    "g_vars = [var for var in train_vars if var.name.startswith(\"generator\")]\n",
    "# discriminator中的tensor\n",
    "d_vars = [var for var in train_vars if var.name.startswith(\"discriminator\")]\n",
    "\n",
    "# optimizer\n",
    "with tf.name_scope(\"D_optimizer\"):\n",
    "    d_train_opt = tf.train.AdamOptimizer(learning_rate).minimize(d_loss, var_list=d_vars)\n",
    "with tf.name_scope(\"G_optimizer\"):\n",
    "    g_train_opt = tf.train.AdamOptimizer(learning_rate).minimize(g_loss, var_list=g_vars)"
   ]
  },
  {
   "cell_type": "code",
   "execution_count": 7,
   "metadata": {},
   "outputs": [],
   "source": [
    "# batch_size\n",
    "batch_size = 64\n",
    "# 训练迭代轮数\n",
    "epochs = 30\n",
    "# 抽取样本数\n",
    "n_sample = 25\n",
    "\n",
    "# 存储测试样例\n",
    "samples = []\n",
    "# 存储loss\n",
    "losses = []\n",
    "# 保存生成器变量\n",
    "saver = tf.train.Saver(var_list = g_vars)\n",
    "# 开始训练\n",
    "with tf.Session() as sess:\n",
    "    sess.run(tf.global_variables_initializer())\n",
    "#     for e in range(epochs):\n",
    "#         for batch_i in range(mnist.train.num_examples//batch_size):\n",
    "#             batch = mnist.train.next_batch(batch_size)\n",
    "            \n",
    "#             batch_images = batch[0].reshape((batch_size, 784))\n",
    "#             # 对图像像素进行scale，这是因为tanh输出的结果介于(-1,1),real和fake图片共享discriminator的参数\n",
    "#             batch_images = batch_images*2 - 1\n",
    "            \n",
    "#             # generator的输入噪声\n",
    "#             batch_noise = np.random.uniform(-1, 1, size=(batch_size, noise_size))\n",
    "            \n",
    "#             # Run optimizers\n",
    "#             _ = sess.run(d_train_opt, feed_dict={real_img: batch_images, noise_img: batch_noise})\n",
    "#             _ = sess.run(g_train_opt, feed_dict={noise_img: batch_noise})\n",
    "        \n",
    "# #         # 每一轮结束计算loss\n",
    "# #         train_loss_d = sess.run(d_loss, \n",
    "# #                                 feed_dict = {real_img: batch_images, \n",
    "# #                                              noise_img: batch_noise})\n",
    "# #         # real img loss\n",
    "# #         train_loss_d_real = sess.run(d_loss_real, \n",
    "# #                                      feed_dict = {real_img: batch_images, \n",
    "# #                                                  noise_img: batch_noise})\n",
    "# #         # fake img loss\n",
    "# #         train_loss_d_fake = sess.run(d_loss_fake, \n",
    "# #                                     feed_dict = {real_img: batch_images, \n",
    "# #                                                  noise_img: batch_noise})\n",
    "# #         # generator loss\n",
    "# #         train_loss_g = sess.run(g_loss, \n",
    "# #                                 feed_dict = {noise_img: batch_noise})\n",
    "        \n",
    "            \n",
    "#         print(\"Epoch {}/{}...\".format(e+1, epochs))    \n",
    "#         # 记录各类loss值\n",
    "# #         losses.append((train_loss_d, train_loss_d_real, train_loss_d_fake, train_loss_g))\n",
    "        \n",
    "#         # 抽取样本后期进行观察\n",
    "#         sample_noise = np.random.uniform(-1, 1, size=(n_sample, noise_size))\n",
    "#         gen_samples = sess.run(get_generator(noise_img, g_units, img_size, reuse=True),\n",
    "#                                feed_dict={noise_img: sample_noise})\n",
    "#         samples.append(gen_samples)\n",
    "        \n",
    "#         # 存储checkpoints\n",
    "#         saver.save(sess, './checkpoints/generator.ckpt')\n",
    "    writer = tf.summary.FileWriter(\"logs/\", sess.graph)\n",
    "#     summary_op = tf.merge_all_summaries()\n",
    "#     summary_writer = tf.train.SummaryWriter(FLAGS.train_dir,graph_def=sess.graph_def)\n",
    "# 将sample的生成数据记录下来\n",
    "# with open('train_samples.pkl', 'wb') as f:\n",
    "#     pickle.dump(samples, f)"
   ]
  },
  {
   "cell_type": "code",
   "execution_count": null,
   "metadata": {},
   "outputs": [],
   "source": [
    "batch = mnist.train.next_batch(5)\n",
    "print(len(batch[0][0]))"
   ]
  },
  {
   "cell_type": "code",
   "execution_count": null,
   "metadata": {},
   "outputs": [],
   "source": [
    "fig, ax = plt.subplots(figsize=(20,7))\n",
    "losses = np.array(losses)\n",
    "plt.plot(losses.T[0], label='Discriminator Total Loss')\n",
    "plt.plot(losses.T[1], label='Discriminator Real Loss')\n",
    "plt.plot(losses.T[2], label='Discriminator Fake Loss')\n",
    "plt.plot(losses.T[3], label='Generator')\n",
    "plt.title(\"Training Losses\")\n",
    "plt.legend()\n",
    "plt.show()"
   ]
  },
  {
   "cell_type": "code",
   "execution_count": null,
   "metadata": {
    "collapsed": true
   },
   "outputs": [],
   "source": [
    "# Load samples from generator taken while training\n",
    "with open('train_samples.pkl', 'rb') as f:\n",
    "    samples = pickle.load(f)\n",
    "\n",
    "def view_samples(epoch, samples):\n",
    "    \"\"\"\n",
    "    epoch代表第几次迭代的图像\n",
    "    samples为我们的采样结果\n",
    "    \"\"\"\n",
    "    fig, axes = plt.subplots(figsize=(7,7), nrows=5, ncols=5, sharey=True, sharex=True)\n",
    "    for ax, img in zip(axes.flatten(), samples[epoch][1]): # 这里samples[epoch][1]代表生成的图像结果，而[0]代表对应的logits\n",
    "        im = ax.imshow(img.reshape((28,28)), cmap='Greys_r')\n",
    "    plt.show()\n",
    "    return fig, axes"
   ]
  },
  {
   "cell_type": "code",
   "execution_count": null,
   "metadata": {},
   "outputs": [],
   "source": [
    "_ = view_samples(-1, samples) # 显示最后一轮的outputs"
   ]
  },
  {
   "cell_type": "code",
   "execution_count": null,
   "metadata": {
    "collapsed": true
   },
   "outputs": [],
   "source": [
    "# 指定要查看的轮次\n",
    "epoch_idx = [0, 5, 10, 20, 40, 60, 80, 100, 150] # 一共300轮，不要越界\n",
    "show_imgs = []\n",
    "for i in epoch_idx:\n",
    "    show_imgs.append(samples[i][1])\n"
   ]
  },
  {
   "cell_type": "code",
   "execution_count": null,
   "metadata": {},
   "outputs": [],
   "source": [
    "# 指定图片形状\n",
    "rows, cols = 10, 25\n",
    "fig, axes = plt.subplots(figsize=(30,12), nrows=rows, ncols=cols, sharex=True, sharey=True)\n",
    "\n",
    "idx = range(0, epochs, int(epochs/rows))\n",
    "\n",
    "for sample, ax_row in zip(show_imgs, axes):\n",
    "    for img, ax in zip(sample[::int(len(sample)/cols)], ax_row):\n",
    "        ax.imshow(img.reshape((28,28)), cmap='Greys_r')\n",
    "        ax.xaxis.set_visible(False)\n",
    "        ax.yaxis.set_visible(False)\n",
    "plt.show()"
   ]
  }
 ],
 "metadata": {
  "kernelspec": {
   "display_name": "Python 3",
   "language": "python",
   "name": "python3"
  },
  "language_info": {
   "codemirror_mode": {
    "name": "ipython",
    "version": 3
   },
   "file_extension": ".py",
   "mimetype": "text/x-python",
   "name": "python",
   "nbconvert_exporter": "python",
   "pygments_lexer": "ipython3",
   "version": "3.5.2"
  }
 },
 "nbformat": 4,
 "nbformat_minor": 2
}
