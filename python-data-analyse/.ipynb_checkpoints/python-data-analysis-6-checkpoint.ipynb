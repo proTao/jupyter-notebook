{
 "cells": [
  {
   "cell_type": "markdown",
   "metadata": {
    "collapsed": true
   },
   "source": [
    "# 读取文本格式的数据\n",
    "\n",
    "- 这些函数预置类型推断功能\n",
    "\n",
    "|函数|说明|\n",
    "|:----|:----|\n",
    "|read_csv|分隔符默认为\",\"的数据|\n",
    "|read_table|分隔符默认为\"\\t\"的数据|\n",
    "|read_fwf|定宽列式数据，无分隔符|\n",
    "|read_clipboard|剪贴板数据，在将网页转换为表格时很有用|\n",
    "\n",
    "- read_csv/read_table函数的参数\n",
    "\n",
    "|参数|说明|\n",
    "|:----|:----|\n",
    "|path||\n",
    "|sep/delimiter||\n",
    "|header|作为列**名**的行号，默认为0，没有header就设置为None\n",
    "|index_col|用作行**索引**的列号，可以是列表|\n",
    "|names|列名列表，前提是header=None|\n",
    "|skiprows|行数或者是行号列表|\n",
    "|na_values||\n",
    "|comments||\n",
    "|parse_dates||\n",
    "|keep_date_col||\n",
    "|converters|一个以列号或列名为键，处理函数为值的字典，用于将某列进行预处理|\n",
    "|dayfirst||\n",
    "|date_parser||\n",
    "|nrows|需要读取的行数|\n",
    "|iterator|返回一个TextParser用于逐块读取文件|\n",
    "|chunksize|文件块的大小|\n",
    "|skip_footer|需要忽略的末尾行数|\n",
    "|verbose|打印各种解析器输出信息|\n",
    "|encoding|用户unicode的文本编码格式|\n",
    "|squeeze|如果数据解析后只有一列，则返回Series|\n",
    "|thousands|千分位分隔符|\n",
    "\n",
    "- 虽然可以用read_xxx方法读入一列数据再转化为Series，但是可以直接用Series的from_csv方法\n"
   ]
  },
  {
   "cell_type": "code",
   "execution_count": 5,
   "metadata": {},
   "outputs": [],
   "source": [
    "import pandas as pd\n",
    "from pandas import Series, DataFrame"
   ]
  },
  {
   "cell_type": "code",
   "execution_count": 11,
   "metadata": {},
   "outputs": [
    {
     "name": "stdout",
     "output_type": "stream",
     "text": [
      "   a   b   c   d message\n",
      "0  1   2   3   4   hello\n",
      "1  5   6   7   8   world\n",
      "2  9  10  11  12     foo\n",
      "\n",
      "<class 'pandas.core.frame.DataFrame'>\n",
      "RangeIndex: 3 entries, 0 to 2\n",
      "Data columns (total 5 columns):\n",
      "a          3 non-null int64\n",
      "b          3 non-null int64\n",
      "c          3 non-null int64\n",
      "d          3 non-null int64\n",
      "message    3 non-null object\n",
      "dtypes: int64(4), object(1)\n",
      "memory usage: 200.0+ bytes\n",
      "None\n"
     ]
    }
   ],
   "source": [
    "# 文件带有列名\n",
    "df = pd.read_csv('ex1.csv')\n",
    "print(df)\n",
    "print()\n",
    "print(df.info())"
   ]
  },
  {
   "cell_type": "code",
   "execution_count": 17,
   "metadata": {},
   "outputs": [
    {
     "name": "stdout",
     "output_type": "stream",
     "text": [
      "   a   b   c   d message\n",
      "0  1   2   3   4   hello\n",
      "1  5   6   7   8   world\n",
      "2  9  10  11  12     foo\n",
      "\n",
      "<class 'pandas.core.frame.DataFrame'>\n",
      "RangeIndex: 3 entries, 0 to 2\n",
      "Data columns (total 5 columns):\n",
      "a          3 non-null int64\n",
      "b          3 non-null int64\n",
      "c          3 non-null int64\n",
      "d          3 non-null int64\n",
      "message    3 non-null object\n",
      "dtypes: int64(4), object(1)\n",
      "memory usage: 200.0+ bytes\n",
      "None\n"
     ]
    }
   ],
   "source": [
    "# 文件不带列名\n",
    "df = pd.read_csv(\"ex2.csv\", header=None, names=['a','b','c','d','message'])\n",
    "\n",
    "print(df)\n",
    "print()\n",
    "print(df.info())\n"
   ]
  },
  {
   "cell_type": "code",
   "execution_count": 19,
   "metadata": {},
   "outputs": [
    {
     "name": "stdout",
     "output_type": "stream",
     "text": [
      "         a   b   c   d\n",
      "message               \n",
      "hello    1   2   3   4\n",
      "world    5   6   7   8\n",
      "foo      9  10  11  12\n",
      "\n",
      "<class 'pandas.core.frame.DataFrame'>\n",
      "Index: 3 entries, hello to foo\n",
      "Data columns (total 4 columns):\n",
      "a    3 non-null int64\n",
      "b    3 non-null int64\n",
      "c    3 non-null int64\n",
      "d    3 non-null int64\n",
      "dtypes: int64(4)\n",
      "memory usage: 120.0+ bytes\n",
      "None\n"
     ]
    }
   ],
   "source": [
    "# 指定某列作为索引\n",
    "df = pd.read_csv(\"ex2.csv\", header=None, names=['a','b','c','d','message'], index_col='message')\n",
    "\n",
    "print(df)\n",
    "print()\n",
    "print(df.info())"
   ]
  },
  {
   "cell_type": "code",
   "execution_count": 24,
   "metadata": {},
   "outputs": [
    {
     "name": "stdout",
     "output_type": "stream",
     "text": [
      "           value1  value2\n",
      "key1 key2                \n",
      "one  a          1       1\n",
      "     b          3       4\n",
      "     c          5       6\n",
      "     d          7       8\n",
      "two  a          9      10\n",
      "     b         11      12\n",
      "     c         13      14\n",
      "     d         15      16\n",
      "\n",
      "<class 'pandas.core.frame.DataFrame'>\n",
      "MultiIndex: 8 entries, (one, a) to (two, d)\n",
      "Data columns (total 2 columns):\n",
      "value1    8 non-null int64\n",
      "value2    8 non-null int64\n",
      "dtypes: int64(2)\n",
      "memory usage: 298.0+ bytes\n",
      "None\n"
     ]
    }
   ],
   "source": [
    "# 层次索引\n",
    "# 按照书上的index_key=['key1','key2']出错了\n",
    "df = pd.read_csv(\"csv_mindex.csv\", index_col=[0,1])\n",
    "\n",
    "print(df)\n",
    "print()\n",
    "print(df.info())"
   ]
  },
  {
   "cell_type": "code",
   "execution_count": 27,
   "metadata": {},
   "outputs": [
    {
     "name": "stdout",
     "output_type": "stream",
     "text": [
      "     A  B  C\n",
      "aaa  1  2  3\n",
      "bbb  4  5  6\n",
      "ccc  d  e  f\n",
      "ddd  g  h  i\n",
      "\n",
      "<class 'pandas.core.frame.DataFrame'>\n",
      "Index: 4 entries, aaa to ddd\n",
      "Data columns (total 3 columns):\n",
      "A    4 non-null object\n",
      "B    4 non-null object\n",
      "C    4 non-null object\n",
      "dtypes: object(3)\n",
      "memory usage: 128.0+ bytes\n",
      "None\n"
     ]
    }
   ],
   "source": [
    "# 用正则表达式作为分隔符\n",
    "df = pd.read_table(\"ex3.txt\", sep=\"\\s+\")\n",
    "\n",
    "print(df)\n",
    "print()\n",
    "print(df.info())"
   ]
  },
  {
   "cell_type": "code",
   "execution_count": 28,
   "metadata": {},
   "outputs": [
    {
     "name": "stdout",
     "output_type": "stream",
     "text": [
      "   a   b   c   d message\n",
      "0  1   2   3   4   hello\n",
      "1  5   6   7   8   world\n",
      "2  9  10  11  12     foo\n",
      "\n",
      "<class 'pandas.core.frame.DataFrame'>\n",
      "RangeIndex: 3 entries, 0 to 2\n",
      "Data columns (total 5 columns):\n",
      "a          3 non-null int64\n",
      "b          3 non-null int64\n",
      "c          3 non-null int64\n",
      "d          3 non-null int64\n",
      "message    3 non-null object\n",
      "dtypes: int64(4), object(1)\n",
      "memory usage: 200.0+ bytes\n",
      "None\n"
     ]
    }
   ],
   "source": [
    "# 跳过注释行\n",
    "df = pd.read_csv(\"ex4.csv\", skiprows=[0,2])\n",
    "\n",
    "print(df)\n",
    "print()\n",
    "print(df.info())"
   ]
  },
  {
   "cell_type": "code",
   "execution_count": 33,
   "metadata": {},
   "outputs": [
    {
     "name": "stdout",
     "output_type": "stream",
     "text": [
      "   a    b     c     d message\n",
      "0  1  2.0   NaN   4.0   hello\n",
      "1  5  6.0   7.0   NaN   world\n",
      "2  9  NaN  11.0  12.0     NaN\n",
      "\n",
      "      a      b      c      d  message\n",
      "0  True   True  False   True     True\n",
      "1  True   True   True  False     True\n",
      "2  True  False   True   True    False\n",
      "   a    b     c     d message\n",
      "0  1  2.0   NaN   4.0   hello\n",
      "1  5  6.0   7.0   NaN   world\n",
      "2  9  NaN  11.0  12.0     NaN\n",
      "\n",
      "      a      b      c      d  message\n",
      "0  True   True  False   True     True\n",
      "1  True   True   True  False     True\n",
      "2  True  False   True   True    False\n"
     ]
    }
   ],
   "source": [
    "# 处理文件中缺失数据\n",
    "df = pd.read_csv(\"ex5.csv\", na_values=['balabala'])\n",
    "\n",
    "print(df)\n",
    "print()\n",
    "print(df.notnull())\n",
    "\n",
    "# 用字典为各列指定不同的缺失值\n",
    "df = pd.read_csv(\"ex5.csv\", na_values={'b':['balabala']})\n",
    "\n",
    "print(df)\n",
    "print()\n",
    "print(df.notnull())"
   ]
  },
  {
   "cell_type": "markdown",
   "metadata": {},
   "source": [
    "## 将数据写出到文本\n",
    "\n",
    "- DataFrame.to_csv(sys.stdout)\n",
    "    - 默认分割符为逗号，通过sep参数自定义\n",
    "    - 默认输出行列标签，通过index=False和header=False禁用\n",
    "    - 缺失值默认输出为空字符串，通过na_rep自定义\n",
    "    - 默认输出全部列，通过cols自定义输出列及其顺序\n",
    "- 同样Series也有这个方法，\n"
   ]
  },
  {
   "cell_type": "markdown",
   "metadata": {},
   "source": [
    "## 使用CSV包手工处理分隔符格式\n",
    "（略）"
   ]
  },
  {
   "cell_type": "markdown",
   "metadata": {},
   "source": [
    "# JSON\n",
    "- 所有的键都必须是字符串\n",
    "- json.loads读取文件，json.dumps写出文件\n",
    "- 详见第七章USDA Food Database案例"
   ]
  },
  {
   "cell_type": "markdown",
   "metadata": {},
   "source": [
    "# XML和HTML：web信息收集\n",
    "- lxml可以读写html和xml类型的数据\n",
    "- 这里用lxml.html处理html，lxml.objectify处理xml数据\n",
    "- "
   ]
  },
  {
   "cell_type": "code",
   "execution_count": null,
   "metadata": {
    "collapsed": true
   },
   "outputs": [],
   "source": []
  }
 ],
 "metadata": {
  "kernelspec": {
   "display_name": "Python 3",
   "language": "python",
   "name": "python3"
  },
  "language_info": {
   "codemirror_mode": {
    "name": "ipython",
    "version": 3
   },
   "file_extension": ".py",
   "mimetype": "text/x-python",
   "name": "python",
   "nbconvert_exporter": "python",
   "pygments_lexer": "ipython3",
   "version": "3.5.2"
  }
 },
 "nbformat": 4,
 "nbformat_minor": 2
}
