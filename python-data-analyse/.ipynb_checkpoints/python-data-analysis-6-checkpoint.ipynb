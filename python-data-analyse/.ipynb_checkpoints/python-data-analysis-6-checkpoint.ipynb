{
 "cells": [
  {
   "cell_type": "markdown",
   "metadata": {
    "collapsed": true
   },
   "source": [
    "# 读取文本格式的数据\n",
    "\n",
    "|函数|说明|\n",
    "|:----|:----|\n",
    "|read_csv|分隔符默认为\",\"的数据|\n",
    "|read_table|分隔符默认为\"\\t\"的数据|\n",
    "|read_fwf|定宽列式数据，无分隔符|\n",
    "|read_clipboard|剪贴板数据，在将网页转换为表格时很有用|\n"
   ]
  },
  {
   "cell_type": "code",
   "execution_count": 1,
   "metadata": {
    "collapsed": true
   },
   "outputs": [],
   "source": [
    "import pandas as pd\n",
    "from pandas import Series, DataFrame"
   ]
  }
 ],
 "metadata": {
  "kernelspec": {
   "display_name": "Python 3",
   "language": "python",
   "name": "python3"
  },
  "language_info": {
   "codemirror_mode": {
    "name": "ipython",
    "version": 3
   },
   "file_extension": ".py",
   "mimetype": "text/x-python",
   "name": "python",
   "nbconvert_exporter": "python",
   "pygments_lexer": "ipython3",
   "version": "3.5.2"
  }
 },
 "nbformat": 4,
 "nbformat_minor": 2
}
