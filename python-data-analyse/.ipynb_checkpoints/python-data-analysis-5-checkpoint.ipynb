{
 "cells": [
  {
   "cell_type": "code",
   "execution_count": 1,
   "metadata": {
    "collapsed": true
   },
   "outputs": [],
   "source": [
    "from pandas import Series, DataFrame\n",
    "import pandas as pd\n",
    "import numpy as np"
   ]
  },
  {
   "cell_type": "markdown",
   "metadata": {
    "collapsed": true
   },
   "source": [
    "# 主要功能\n",
    "- 按轴自动或者显示对齐数据\n",
    "- 集成时间序列功能\n",
    "- 既能处理时序数据，也能处理非时序数据的数据结构\n",
    "- 数学运算和约减可以根据不同的轴执行\n",
    "- 灵活处理缺失数据\n",
    "- 合并及其他常见关系型运算"
   ]
  },
  {
   "cell_type": "markdown",
   "metadata": {},
   "source": [
    "# 数据结构\n",
    "- Series\n",
    "- DataFrame"
   ]
  },
  {
   "cell_type": "markdown",
   "metadata": {},
   "source": [
    "## Series\n",
    "1. 类似于数组， 但是每个数据有与之相关的索引，默认用下标作为索引\n",
    "2. 可以通过下标访问，也可以通过索引访问\n",
    "3. 可以根据数组或者python字典创建，当用字典初始化Series且显式输入索引时，如果有冲突，以索引为准\n",
    "4. Numpy数学运算会保留索引和值之间的关系\n",
    "5. 对于许多应多而言，Series最重要的功能是自动在运算中对齐数据\n",
    "6. Series本身及其所以呢具有name属性，该属性和pandas的其他关键功能关系十分密切\n",
    "7. 索引可以通过直接赋值的方式修改"
   ]
  },
  {
   "cell_type": "code",
   "execution_count": 3,
   "metadata": {},
   "outputs": [
    {
     "name": "stdout",
     "output_type": "stream",
     "text": [
      "1\n",
      "1\n",
      "b    2.0\n",
      "c    3.0\n",
      "d    4.0\n",
      "e    NaN\n",
      "dtype: float64\n",
      "b    4.0\n",
      "c    6.0\n",
      "d    8.0\n",
      "e    NaN\n",
      "dtype: float64\n",
      "b     NaN\n",
      "c    13.0\n",
      "d    15.0\n",
      "e     NaN\n",
      "f     NaN\n",
      "dtype: float64\n",
      "w    2.0\n",
      "x    3.0\n",
      "y    4.0\n",
      "z    NaN\n",
      "Name: balala, dtype: float64\n"
     ]
    }
   ],
   "source": [
    "# 1: 此时行为类似于一个数组\n",
    "a = Series([1,2,3,4])\n",
    "print(a[0])\n",
    "\n",
    "# 2: 添加索引\n",
    "a.index = ['a','b','c','d']\n",
    "print(a['a'])\n",
    "\n",
    "# 3: 发生冲突\n",
    "a = Series({'a':1,'b':2,'c':3,'d':4}, index=['b','c','d','e'])\n",
    "print(a)\n",
    "\n",
    "# 4: 数学运算\n",
    "print(a * 2)\n",
    "\n",
    "# 5: 对齐数据\n",
    "b = Series([10,11,12,13], index=['c','d','e','f'])\n",
    "print(a+b)\n",
    "\n",
    "# 6: name\n",
    "a.name = \"balala\"\n",
    "a.index.name = \"xiaomoxian\"\n",
    "\n",
    "# 7: 修改index\n",
    "a.index = ['w','x','y','z']\n",
    "print(a)"
   ]
  },
  {
   "cell_type": "markdown",
   "metadata": {},
   "source": [
    "## DataFrame\n",
    "1. 表格型数据结构，可以看做共享索引的Series组成的字典，列间有序。\n",
    "2. 面向行和列的操作基本平衡，DataFrame中的数据结构是以一个或者多个二维快存放的（而不是列表或字典等一维数据结构）\n",
    "3. 初始化方式\n",
    "    - 二维ndarray或类似的python二维结构\n",
    "    - 由列表组成的字典\n",
    "    - Numpy结构化/记录数组\n",
    "    - Series/字典组成的字典\n",
    "    - Series/字典的列表\n",
    "    - DataFrame\n",
    "    - Numpy的MaskedArray\n",
    "4. 可以获取DataFrame的行或列为Series\n",
    "    - 通过列name获取列\n",
    "    - 通过loc或iloc获取行\n",
    "5. 通过索引方式返回的列只是相应数据的视图，可用copy函数返回副本"
   ]
  },
  {
   "cell_type": "code",
   "execution_count": 17,
   "metadata": {},
   "outputs": [
    {
     "name": "stdout",
     "output_type": "stream",
     "text": [
      "   0  1  2\n",
      "0  1  2  3\n",
      "1  4  5  6\n",
      "          a  b\n",
      "0  1.240677  0\n",
      "1 -0.154216  1\n",
      "2 -0.654846  2\n",
      "3 -1.438807  3\n",
      "4 -0.053441  4\n",
      "       y     m     d\n",
      "01  1994   NaN   NaN\n",
      "02  2011  12.0   1.0\n",
      "03   NaN   8.0  15.0\n",
      "       y     m     d\n",
      "01  1994   NaN  12.0\n",
      "02  2011  12.0   NaN\n",
      "03   NaN   8.0  30.0\n"
     ]
    }
   ],
   "source": [
    "df = DataFrame([[1,2,3],[4,5,6]])\n",
    "print(df)\n",
    "\n",
    "data = {'a':np.random.randn(5), 'b':np.arange(5)}\n",
    "df = DataFrame(data)\n",
    "print(df)\n",
    "\n",
    "df = DataFrame({'y':{'01':1994,'02':'2011'}, 'm':{'02':12, '03':8}, 'd':{'02':1, '03':15}}, columns=['y', 'm', 'd'])\n",
    "print(df)\n",
    "\n",
    "# 通过Series修改列\n",
    "val = Series([12, 30], index=['01', '03'])\n",
    "df.d = val\n",
    "print(df)"
   ]
  },
  {
   "cell_type": "markdown",
   "metadata": {},
   "source": [
    "## 索引对象\n",
    "- 负责管理轴标签或者其他元数据（轴名称等）\n",
    "- 不可变，索引对象自身是imutable的，前面对index的修改只是把Series的index对象替换为另一个index对象\n",
    "- index对象内置了一些方法，功能十分类似于数组\n",
    "- index对象见下表\n",
    "\n",
    "|类|说明|\n",
    "|:----|:----|\n",
    "|index|Python对象组成的Numpy数组|\n",
    "|int64index|针对整数|\n",
    "|MultiIndex|层次化，表示单个轴上的多层索引|\n",
    "|DatetimeIndex|纳秒级时间戳|\n",
    "|PeriodIndex|针对Period|\n",
    "\n",
    "- index的方法与属性\n",
    "\n",
    "|方法|说明|\n",
    "|:----|:----|\n",
    "|append|连接另一个index|\n",
    "|diff||\n",
    "|intersection||\n",
    "|union||\n",
    "|isin||\n",
    "|delete|删除指定位置索引|\n",
    "|drop|删除指定值索引|\n",
    "|insert||\n",
    "|is_monotonic|是否单调递增|\n",
    "|is_unique|是否无冗余|\n",
    "|unique|去重|"
   ]
  },
  {
   "cell_type": "markdown",
   "metadata": {
    "collapsed": true
   },
   "source": [
    "# 基本功能"
   ]
  },
  {
   "cell_type": "markdown",
   "metadata": {},
   "source": [
    "## 重新索引\n",
    "- 返回副本而不是就地修改\n",
    "- Series再索引时通常要制定插值方法\n",
    "- DataFrame可以对行或者对列再索引，但是插值只能应用于轴0\n",
    "- ix标签索引功能也用于reindex功能\n",
    "- reindex参数有index/columns/method/copy/level/fill_value/limit/tolerance"
   ]
  },
  {
   "cell_type": "code",
   "execution_count": 10,
   "metadata": {},
   "outputs": [
    {
     "name": "stdout",
     "output_type": "stream",
     "text": [
      "a    1\n",
      "b    2\n",
      "c    2\n",
      "d    4\n",
      "dtype: int64\n",
      "a    1\n",
      "b    2\n",
      "d    4\n",
      "dtype: int64\n",
      "a     1\n",
      "b     2\n",
      "c    -1\n",
      "d     4\n",
      "dtype: object\n",
      "    c1  c2  c3\n",
      "r1   0   1   2\n",
      "r2   3   4   5\n",
      "r3   6   7   8\n",
      "     c1   c2   c3  c4\n",
      "r1  0.0  1.0  2.0 NaN\n",
      "r2  3.0  4.0  5.0 NaN\n",
      "r3  6.0  7.0  8.0 NaN\n",
      "r4  NaN  NaN  NaN NaN\n"
     ]
    },
    {
     "name": "stderr",
     "output_type": "stream",
     "text": [
      "/usr/local/lib/python3.5/dist-packages/ipykernel_launcher.py:7: DeprecationWarning: \n",
      ".ix is deprecated. Please use\n",
      ".loc for label based indexing or\n",
      ".iloc for positional indexing\n",
      "\n",
      "See the documentation here:\n",
      "http://pandas.pydata.org/pandas-docs/stable/indexing.html#ix-indexer-is-deprecated\n",
      "  import sys\n"
     ]
    }
   ],
   "source": [
    "a = Series([1,2,4], index=['a','b','d'])\n",
    "print(a.reindex(['a','b','c','d'], method='ffill'))\n",
    "print(a)\n",
    "print(a.reindex(['a','b','c','d'], fill_value='-1'))\n",
    "\n",
    "a = DataFrame(np.arange(9).reshape(3,3), columns=['c1','c2','c3'], index=['r1','r2','r3'])\n",
    "print(a.ix[['r1','r2','r3'],['c1','c2','c3']])\n",
    "print(a.ix[['r1','r2','r3','r4'],['c1','c2','c3','c4']])"
   ]
  },
  {
   "cell_type": "markdown",
   "metadata": {},
   "source": [
    "## 丢弃指定轴上的项\n",
    "- 使用drop函数\n",
    "- 参数：labels/axis/level/inplace/errors\n",
    "- index接受单个值或者列表\n",
    "- 对于DataFrame默认删除index指定行，想要删除column中指定列需要指定axis"
   ]
  },
  {
   "cell_type": "code",
   "execution_count": 5,
   "metadata": {},
   "outputs": [
    {
     "name": "stdout",
     "output_type": "stream",
     "text": [
      "删除一行\n",
      "   a  b  c\n",
      "b  3  4  5\n",
      "c  6  7  8\n",
      "\n",
      "删除多行\n",
      "   a  b  c\n",
      "a  0  1  2\n",
      "\n",
      "删除列\n",
      "   a  c\n",
      "a  0  2\n",
      "b  3  5\n",
      "c  6  8\n",
      "\n"
     ]
    }
   ],
   "source": [
    "a = pd.DataFrame(np.arange(9).reshape(3,3), columns=['a','b','c'], index=['a','b','c'])\n",
    "print(\"删除一行\")\n",
    "print(a.drop('a'))\n",
    "print()\n",
    "print(\"删除多行\")\n",
    "print(a.drop(['b','c']))\n",
    "print()\n",
    "print(\"删除列\")\n",
    "print(a.drop(['b'], axis=1))\n",
    "print()"
   ]
  },
  {
   "cell_type": "markdown",
   "metadata": {},
   "source": [
    "## 索引选取和过滤\n",
    "1. 对于Series，索引方式类似于numpy数组，可以索引/切片或者花式索引\n",
    "2. 注意，利用标签索引的取值范围是**闭区间**\n",
    "3. 对于DaaFrame，直接索引和花式索引是**按列**，切片和一维布尔索引是**按行**\n",
    "4. Dataframe的二维布尔索引类似于ndarray\n",
    "5. loc**属性**可以用来替代ix属性，注意不是方法，使用方式是直接通过方括号索引，可接受索引列表或者布尔列表用于选择指定行列的“子块”\n",
    "\n",
    "索引方式：\n",
    "\n",
    "|类型|说明|\n",
    "|:---|:---|\n",
    "|obj[val]|参考上面的说明|\n",
    "|obj.loc[val]|一行或多行|\n",
    "|obj.loc[:,val]|一列或多列|\n",
    "|obj.loc[val1,val2]|子块|\n",
    "|reindex||\n",
    "|xs|指定轴，选取单行或单列|\n",
    "|get_value, get_values|后者等价于values属性|"
   ]
  },
  {
   "cell_type": "code",
   "execution_count": 11,
   "metadata": {},
   "outputs": [
    {
     "name": "stdout",
     "output_type": "stream",
     "text": [
      "a     0\n",
      "b     4\n",
      "c     8\n",
      "d    12\n",
      "Name: e, dtype: int64\n",
      "\n",
      "    g   f\n",
      "a   2   1\n",
      "b   6   5\n",
      "c  10   9\n",
      "d  14  13\n",
      "\n",
      "   e  f  g  h\n",
      "a  0  1  2  3\n",
      "\n",
      "   e  f  g  h\n",
      "a  0  1  2  3\n",
      "b  4  5  6  7\n",
      "\n",
      "   e  f   g   h\n",
      "a  0  1   2   3\n",
      "c  8  9  10  11\n",
      "\n"
     ]
    }
   ],
   "source": [
    "a = DataFrame(np.arange(16).reshape(4,4), index=['a','b','c','d'], columns=['e','f','g','h'])\n",
    "\n",
    "# 按列\n",
    "print(a['e'])\n",
    "print()\n",
    "\n",
    "print(a[['g','f']])\n",
    "print()\n",
    "\n",
    "# 按行\n",
    "# print(a[1]) 不能这么索引行\n",
    "print(a[:1])\n",
    "print()\n",
    "\n",
    "print(a['a':'b'])\n",
    "print()\n",
    "\n",
    "print(a[[True,False,True,False]])\n",
    "print()"
   ]
  },
  {
   "cell_type": "markdown",
   "metadata": {},
   "source": [
    "## 算术运算和数据对齐\n",
    "- pandas最重要的一个功能就是对不同索引对象进行算术运算，并对齐索引（并集）\n",
    "- 对齐过程中会产生NAN，NAN与正常值运算会得到NAN，也就是说NAN会不断传播\n",
    "- 对于Dataframe，对齐同时会发生在两个轴上\n",
    "- 为了避免NAN的扩散，在算数方法中使用**填充值**\n",
    "    - add\n",
    "    - sub\n",
    "    - div\n",
    "    - mul\n",
    "- Dataframe与Series之间的运算会触发广播机制，默认情况是把Series横着运算，然后向下传播，但是可以通过在上述四个方法中传入axis参数来控制方向"
   ]
  },
  {
   "cell_type": "code",
   "execution_count": 17,
   "metadata": {},
   "outputs": [
    {
     "name": "stdout",
     "output_type": "stream",
     "text": [
      "    e   f   g   h\n",
      "a   0   2   4 NaN\n",
      "b   7   9  11 NaN\n",
      "c  14  16  18 NaN\n",
      "d  21  23  25 NaN\n",
      "\n",
      "    e   f   g     h\n",
      "a   0   2   4   3.0\n",
      "b   7   9  11   7.0\n",
      "c  14  16  18  11.0\n",
      "d  21  23  25  15.0\n",
      "\n",
      "    e   f   g\n",
      "a   1   3   5\n",
      "b   4   6   8\n",
      "c   7   9  11\n",
      "d  10  12  14\n",
      "\n",
      "    e   f   g\n",
      "a   1   2   3\n",
      "b   5   6   7\n",
      "c   9  10  11\n",
      "d  13  14  15\n"
     ]
    }
   ],
   "source": [
    "a = DataFrame(np.arange(16).reshape(4,4), index=['a','b','c','d'], columns=['e','f','g','h'])\n",
    "b = DataFrame(np.arange(12).reshape(4,3), index=['a','b','c','d'], columns=['e','f','g'])\n",
    "\n",
    "print(a+b)\n",
    "print()\n",
    "\n",
    "print(a.add(b,fill_value=0))\n",
    "print()\n",
    "\n",
    "print(b.add([1,2,3]))\n",
    "print()\n",
    "\n",
    "# print(b.add([1,2,3,4])) 会报错\n",
    "# 我觉得axis的意思是按0轴方向摆放，也就是把列表竖着和DataFrame做运算\n",
    "print(b.add([1,2,3,4], axis=0))"
   ]
  },
  {
   "cell_type": "markdown",
   "metadata": {},
   "source": [
    "## 函数应用和映射\n",
    "- numpy的ufunc函数可以直接作用于pandas对象上的每一个元素\n",
    "- 将接受一位数组进行计算的函数批量应用于DataFrame的行或者列上，通过apply函数，指定axis\n",
    "- 通过applymap函数把一个普通函数映射到DataFrame的每一个元素上"
   ]
  },
  {
   "cell_type": "markdown",
   "metadata": {},
   "source": [
    "## 排序和排名\n",
    "- Series的sort_index()方法将Series按索引排序，Dataframe同样有这个方法，但是要指定轴。返回副本。\n",
    "- ascending属性默认为True\n",
    "- 排序后，缺失值会方法哦排序结果的**末尾**\n",
    "- Series的order方法可以按值排序\n",
    "- DataFrame的sort_index方法的by参数可以控制按照某几列或者某几行的值进行排序（要结合axis方法）\n",
    "- rank其实就是给出排序后的排名, 当method为first时实际上就是按照出现先后稳定排序"
   ]
  },
  {
   "cell_type": "code",
   "execution_count": 23,
   "metadata": {},
   "outputs": [
    {
     "name": "stdout",
     "output_type": "stream",
     "text": [
      "          d         e         f\n",
      "a  1.803450 -1.287039 -0.097351\n",
      "c -0.160311  0.602531  1.731192\n",
      "b -0.241769  1.452160 -0.663688\n",
      "\n",
      "          e         f         d\n",
      "a -1.287039 -0.097351  1.803450\n",
      "b  1.452160 -0.663688 -0.241769\n",
      "c  0.602531  1.731192 -0.160311\n",
      "\n",
      "0    1\n",
      "1    2\n",
      "2    4\n",
      "3    5\n",
      "4    3\n",
      "5    4\n",
      "dtype: int64\n",
      "\n",
      "0    1.0\n",
      "1    2.0\n",
      "2    4.0\n",
      "3    6.0\n",
      "4    3.0\n",
      "5    5.0\n",
      "dtype: float64\n",
      "0    1.0\n",
      "1    2.0\n",
      "2    4.0\n",
      "3    6.0\n",
      "4    3.0\n",
      "5    4.0\n",
      "dtype: float64\n",
      "\n"
     ]
    },
    {
     "name": "stderr",
     "output_type": "stream",
     "text": [
      "/usr/local/lib/python3.5/dist-packages/ipykernel_launcher.py:2: FutureWarning: by argument to sort_index is deprecated, pls use .sort_values(by=...)\n",
      "  \n",
      "/usr/local/lib/python3.5/dist-packages/ipykernel_launcher.py:4: FutureWarning: by argument to sort_index is deprecated, pls use .sort_values(by=...)\n",
      "  after removing the cwd from sys.path.\n"
     ]
    }
   ],
   "source": [
    "a = pd.DataFrame(np.random.randn(3,3), columns=['d','e','f'], index=['a','b','c'])\n",
    "print(a.sort_index(by='e'))\n",
    "print()\n",
    "print(a.sort_index(by='a', axis=1))\n",
    "print()\n",
    "\n",
    "\n",
    "b = Series([1,2,4,5,3,4])\n",
    "print(b)\n",
    "print()\n",
    "print(b.rank(method='first'))\n",
    "# min的感觉就像是现在的比赛，两个值都是4，排名并列第四\n",
    "print(b.rank(method=\"min\"))\n",
    "print()"
   ]
  },
  {
   "cell_type": "markdown",
   "metadata": {},
   "source": [
    "## 带有重复值的轴索引\n",
    "- 轴索引唯一并不是强制性的"
   ]
  },
  {
   "cell_type": "markdown",
   "metadata": {},
   "source": [
    "# 汇总和计算描述统计\n",
    "- 通常都会跳过NAN值，但是可以通过将skipna参数设为false来传播NA\n",
    "\n",
    "|方法|说明|\n",
    "|:----|:----|\n",
    "|count||\n",
    "|describe||\n",
    "|min, max||\n",
    "|argmin, argmax|最大最小索引位置|\n",
    "|idxmin, idxmax|最大最小索引值|\n",
    "|quantile|分位数|\n",
    "|sum||\n",
    "|mean||\n",
    "|median|中位数|\n",
    "|mad|根据平均值计算绝对离差|\n",
    "|var|方差|\n",
    "|std|标准差|\n",
    "|skew|偏度（三阶矩）|\n",
    "|kurt|峰度（四阶矩）|\n",
    "|cumsum|累积和|\n",
    "|cummin, cummax|累计极值|\n",
    "|cumprod|累计积|\n",
    "|diff|一阶差分（对时间序列很有用）|\n",
    "|pct_change|百分数变化 (当前值-前一个值)/前一个值|"
   ]
  },
  {
   "cell_type": "markdown",
   "metadata": {},
   "source": [
    "## 相关系数与协方差"
   ]
  },
  {
   "cell_type": "code",
   "execution_count": null,
   "metadata": {
    "collapsed": true
   },
   "outputs": [],
   "source": [
    "import pandas_datareader.data as web\n",
    "\n",
    "all_data = {}\n",
    "for ticker in ['AAPL', 'IBM', 'MSFT', 'GOOG']:\n",
    "    all_data[ticker] = web.get_data_yahoo(ticker, '1/1/2000', '1/1/2000') \n",
    "\n",
    "price = pd.DataFrame({tic: data['Adj Close'] for tic, data in all_data.iteritems()})\n",
    "volume = pd.DataFrame({tic: data['Volume'] for tic, data in all_data.iteritems()})\n",
    "\n",
    "returns = price.pct_change()\n",
    "\n",
    "# Series的corr计算Series中重叠的，非NA的，按索引对齐的值的相关系数\n",
    "# 类似的，cov计算协方差\n",
    "print(returns.MSFT.corr(returns.IBM))\n",
    "print(returns.MSFT.cov(returns.IBM))\n",
    "\n",
    "# DataFrame的coor和cov返回各个列之间的相关系数或协方差矩阵\n",
    "print(returns.corr())\n",
    "print(returns.cov())\n",
    "\n",
    "# DataFrame的corrWith方法\n",
    "# 当传入一个Series时，返回各列与1输入Serirs的相关系数\n",
    "# 当传入一个DataFrame时，按照列名匹配计算相关系数\n"
   ]
  },
  {
   "cell_type": "markdown",
   "metadata": {},
   "source": [
    "## 唯一值/值计数与成员资格\n",
    "\n",
    "- unique去重\n",
    "- value_count值计数\n",
    "- isin成员资格"
   ]
  },
  {
   "cell_type": "code",
   "execution_count": 25,
   "metadata": {},
   "outputs": [
    {
     "name": "stdout",
     "output_type": "stream",
     "text": [
      "     a    b    c\n",
      "1  1.0  1.0  1.0\n",
      "2  0.0  2.0  1.0\n",
      "3  2.0  2.0  0.0\n",
      "4  2.0  0.0  2.0\n",
      "5  0.0  0.0  1.0\n"
     ]
    }
   ],
   "source": [
    "# 返回各列一致的直方图\n",
    "\n",
    "data = DataFrame({\n",
    "    'a':[1,3,4,3,4],\n",
    "    'b':[2,3,1,2,3],\n",
    "    'c':[1,5,2,4,4]\n",
    "})\n",
    "\n",
    "result = data.apply(pd.value_counts).fillna(0)\n",
    "\n",
    "print(result)"
   ]
  },
  {
   "cell_type": "markdown",
   "metadata": {},
   "source": [
    "# 处理缺失数据\n",
    "\n",
    "- python内置的None会作为NAN处理\n",
    "- dropna默认丢弃任何含有缺失值的行，传入how='all'参数将丢弃全部为nan的行，丢弃列需要参数axis=1，\n",
    "- dropna的thresh参数决定至少有几个非NAM值才予以保留\n",
    "- fillna默认返回新对象，但是可以通过控制inplace参数为真来就地修改\n",
    "- method决定插值方法， limit决定最多插几个值\n",
    "\n",
    "|方法|说明|\n",
    "|:---|:---|\n",
    "|dropna|可调节对阈值的容忍度|\n",
    "|fillna|用指定值或者插值方法填充NA|\n",
    "|isnull||\n",
    "|notnull||"
   ]
  },
  {
   "cell_type": "markdown",
   "metadata": {},
   "source": [
    "# 层次化索引\n",
    "\n",
    "比较繁琐，留坑待填"
   ]
  },
  {
   "cell_type": "markdown",
   "metadata": {},
   "source": [
    "# 面板数据"
   ]
  },
  {
   "cell_type": "code",
   "execution_count": null,
   "metadata": {
    "collapsed": true
   },
   "outputs": [],
   "source": []
  }
 ],
 "metadata": {
  "kernelspec": {
   "display_name": "Python 3",
   "language": "python",
   "name": "python3"
  },
  "language_info": {
   "codemirror_mode": {
    "name": "ipython",
    "version": 3
   },
   "file_extension": ".py",
   "mimetype": "text/x-python",
   "name": "python",
   "nbconvert_exporter": "python",
   "pygments_lexer": "ipython3",
   "version": "3.5.2"
  }
 },
 "nbformat": 4,
 "nbformat_minor": 2
}
