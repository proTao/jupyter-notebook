{
 "cells": [
  {
   "cell_type": "markdown",
   "metadata": {
    "collapsed": true
   },
   "source": [
    "# 日期和时间数据类型及工具\n",
    "- datatime以毫秒形式存储日期和时间\n",
    "- timedelta表示两个datetime对象之间的时间差"
   ]
  },
  {
   "cell_type": "code",
   "execution_count": 2,
   "metadata": {},
   "outputs": [],
   "source": [
    "from datetime import datetime"
   ]
  },
  {
   "cell_type": "code",
   "execution_count": 3,
   "metadata": {},
   "outputs": [
    {
     "name": "stdout",
     "output_type": "stream",
     "text": [
      "2017-10-29 14:56:35.371318\n",
      "2017 10 29\n"
     ]
    }
   ],
   "source": [
    "now = datetime.now()\n",
    "print(now)\n",
    "print(now.year, now.month, now.day)"
   ]
  },
  {
   "cell_type": "code",
   "execution_count": 4,
   "metadata": {},
   "outputs": [
    {
     "name": "stdout",
     "output_type": "stream",
     "text": [
      "926 days, 15:45:00\n",
      "926\n",
      "56700\n"
     ]
    }
   ],
   "source": [
    "delta = datetime(2011,1,7) - datetime(2008,6,24,8,15)\n",
    "print(delta)\n",
    "print(delta.days)\n",
    "print(delta.seconds)"
   ]
  },
  {
   "cell_type": "code",
   "execution_count": 5,
   "metadata": {},
   "outputs": [
    {
     "data": {
      "text/plain": [
       "datetime.datetime(2011, 1, 19, 0, 0)"
      ]
     },
     "execution_count": 5,
     "metadata": {},
     "output_type": "execute_result"
    }
   ],
   "source": [
    "# datetime加减timedelta可以产生一个新对象\n",
    "from datetime import timedelta\n",
    "start = datetime(2011,1,7)\n",
    "start + timedelta(12) # 天"
   ]
  },
  {
   "cell_type": "markdown",
   "metadata": {},
   "source": [
    "## 字符串和datetime的相互转换\n",
    "- 利用str方法或者datetime的strftime方法，datetime对象和pandas的TimeStamp对象可以被格式化为字符串\n",
    "- datetime的strptime可以接受一个指定形式的字符串并转换为datetime对象\n",
    "- strptime是通过已知格式进行日期解析的最佳方法，但是编写格式定义比较繁琐，通过dateutil中的parser.parse方法几乎可以自动理解全部日期格式，但是会出现歧义问题\n",
    "- pandas可以进行批量转化,返回日期索引类型"
   ]
  },
  {
   "cell_type": "code",
   "execution_count": 7,
   "metadata": {},
   "outputs": [
    {
     "name": "stdout",
     "output_type": "stream",
     "text": [
      "2011-01-03 00:00:00\n"
     ]
    },
    {
     "data": {
      "text/plain": [
       "'2011-01-03'"
      ]
     },
     "execution_count": 7,
     "metadata": {},
     "output_type": "execute_result"
    }
   ],
   "source": [
    "# 时间转为str\n",
    "stamp = datetime(2011,1,3)\n",
    "print(str(stamp))\n",
    "stamp.strftime(\"%Y-%m-%d\")"
   ]
  },
  {
   "cell_type": "code",
   "execution_count": 8,
   "metadata": {},
   "outputs": [
    {
     "data": {
      "text/plain": [
       "datetime.datetime(1994, 3, 30, 0, 0)"
      ]
     },
     "execution_count": 8,
     "metadata": {},
     "output_type": "execute_result"
    }
   ],
   "source": [
    "# str转换为时间\n",
    "datetime.strptime(\"1994-03-30\", \"%Y-%m-%d\")"
   ]
  },
  {
   "cell_type": "code",
   "execution_count": 9,
   "metadata": {},
   "outputs": [
    {
     "data": {
      "text/plain": [
       "datetime.datetime(1997, 1, 31, 22, 45)"
      ]
     },
     "execution_count": 9,
     "metadata": {},
     "output_type": "execute_result"
    }
   ],
   "source": [
    "from dateutil.parser import parse\n",
    "parse(\"Jan 31, 1997 10:45 PM\")"
   ]
  },
  {
   "cell_type": "code",
   "execution_count": 10,
   "metadata": {},
   "outputs": [
    {
     "data": {
      "text/plain": [
       "DatetimeIndex(['1994-03-30', '1993-11-19'], dtype='datetime64[ns]', freq=None)"
      ]
     },
     "execution_count": 10,
     "metadata": {},
     "output_type": "execute_result"
    }
   ],
   "source": [
    "import pandas as pd\n",
    "pd.to_datetime([\"3/30/1994\",\"11/19/1993\"])"
   ]
  },
  {
   "cell_type": "markdown",
   "metadata": {},
   "source": [
    "# 时间序列基础\n",
    "- 以DatetimeIndex为索引的Series会自动转化为TimeSeries，DatatimeIndex中的每个元素是pandas的TimeStamp对象\n",
    "- pandas以numpy的datetime64以纳秒形式存储时间戳\n"
   ]
  },
  {
   "cell_type": "code",
   "execution_count": 15,
   "metadata": {},
   "outputs": [
    {
     "name": "stdout",
     "output_type": "stream",
     "text": [
      "274\n",
      "2001-01-01    366\n",
      "2001-01-02    367\n",
      "2001-01-03    368\n",
      "2001-01-04    369\n",
      "2001-01-05    370\n",
      "2001-01-06    371\n",
      "2001-01-07    372\n",
      "2001-01-08    373\n",
      "2001-01-09    374\n",
      "2001-01-10    375\n",
      "2001-01-11    376\n",
      "2001-01-12    377\n",
      "2001-01-13    378\n",
      "2001-01-14    379\n",
      "2001-01-15    380\n",
      "2001-01-16    381\n",
      "2001-01-17    382\n",
      "2001-01-18    383\n",
      "2001-01-19    384\n",
      "2001-01-20    385\n",
      "2001-01-21    386\n",
      "2001-01-22    387\n",
      "2001-01-23    388\n",
      "2001-01-24    389\n",
      "2001-01-25    390\n",
      "2001-01-26    391\n",
      "2001-01-27    392\n",
      "2001-01-28    393\n",
      "2001-01-29    394\n",
      "2001-01-30    395\n",
      "             ... \n",
      "2001-12-02    701\n",
      "2001-12-03    702\n",
      "2001-12-04    703\n",
      "2001-12-05    704\n",
      "2001-12-06    705\n",
      "2001-12-07    706\n",
      "2001-12-08    707\n",
      "2001-12-09    708\n",
      "2001-12-10    709\n",
      "2001-12-11    710\n",
      "2001-12-12    711\n",
      "2001-12-13    712\n",
      "2001-12-14    713\n",
      "2001-12-15    714\n",
      "2001-12-16    715\n",
      "2001-12-17    716\n",
      "2001-12-18    717\n",
      "2001-12-19    718\n",
      "2001-12-20    719\n",
      "2001-12-21    720\n",
      "2001-12-22    721\n",
      "2001-12-23    722\n",
      "2001-12-24    723\n",
      "2001-12-25    724\n",
      "2001-12-26    725\n",
      "2001-12-27    726\n",
      "2001-12-28    727\n",
      "2001-12-29    728\n",
      "2001-12-30    729\n",
      "2001-12-31    730\n",
      "Freq: D, Length: 365, dtype: int64\n"
     ]
    }
   ],
   "source": [
    "from pandas import Series\n",
    "import numpy as np\n",
    "ts = Series(np.arange(1000), index=pd.date_range('1/1/2000',periods=1000))\n",
    "# 可以直接通过字符串索引\n",
    "print(ts['20001001'])\n",
    "\n",
    "# 可以只索引年份\n",
    "print(ts['2001'])\n"
   ]
  },
  {
   "cell_type": "code",
   "execution_count": 19,
   "metadata": {},
   "outputs": [
    {
     "name": "stdout",
     "output_type": "stream",
     "text": [
      "2001-10-01    639\n",
      "2001-10-02    640\n",
      "2001-10-03    641\n",
      "2001-10-04    642\n",
      "2001-10-05    643\n",
      "2001-10-06    644\n",
      "2001-10-07    645\n",
      "2001-10-08    646\n",
      "2001-10-09    647\n",
      "2001-10-10    648\n",
      "Freq: D, dtype: int64\n",
      "2001-10-01    639\n",
      "2001-10-02    640\n",
      "2001-10-03    641\n",
      "2001-10-04    642\n",
      "2001-10-05    643\n",
      "2001-10-06    644\n",
      "2001-10-07    645\n",
      "2001-10-08    646\n",
      "2001-10-09    647\n",
      "2001-10-10    648\n",
      "Freq: D, dtype: int64\n"
     ]
    }
   ],
   "source": [
    "# 可以切片\n",
    "print(ts[\"20011001\":\"20011010\"])\n",
    "\n",
    "# 还有一个类似的方法\n",
    "print(ts.truncate(\"20011001\",\"20011010\"))"
   ]
  },
  {
   "cell_type": "code",
   "execution_count": null,
   "metadata": {
    "collapsed": true
   },
   "outputs": [],
   "source": []
  }
 ],
 "metadata": {
  "kernelspec": {
   "display_name": "Python 3",
   "language": "python",
   "name": "python3"
  },
  "language_info": {
   "codemirror_mode": {
    "name": "ipython",
    "version": 3
   },
   "file_extension": ".py",
   "mimetype": "text/x-python",
   "name": "python",
   "nbconvert_exporter": "python",
   "pygments_lexer": "ipython3",
   "version": "3.5.2"
  }
 },
 "nbformat": 4,
 "nbformat_minor": 2
}
