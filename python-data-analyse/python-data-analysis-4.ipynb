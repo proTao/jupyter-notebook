{
 "cells": [
  {
   "cell_type": "markdown",
   "metadata": {
    "collapsed": true
   },
   "source": [
    "# Numpy的ndarray：一种多维数组对象"
   ]
  },
  {
   "cell_type": "markdown",
   "metadata": {},
   "source": [
    "- **必须要是同构数据**"
   ]
  },
  {
   "cell_type": "code",
   "execution_count": 9,
   "metadata": {
    "collapsed": true
   },
   "outputs": [],
   "source": [
    "import numpy as np\n",
    "from pprint import pprint as print"
   ]
  },
  {
   "cell_type": "markdown",
   "metadata": {},
   "source": [
    "## 创建"
   ]
  },
  {
   "cell_type": "markdown",
   "metadata": {},
   "source": [
    "|函数|说明|\n",
    "|:----|:-----|\n",
    "|array||\n",
    "|asarray||\n",
    "|arange||\n",
    "|ones(ones_like)||\n",
    "|zeros(zeros_like)||\n",
    "|empty(empty_like)|分配新数组空间|\n",
    "|eye / identity|返回单位方阵|"
   ]
  },
  {
   "cell_type": "markdown",
   "metadata": {},
   "source": [
    "## 数据类型"
   ]
  },
  {
   "cell_type": "markdown",
   "metadata": {},
   "source": [
    "|类型|类型代码|说明|\n",
    "|:----|:-----|:-----|\n",
    "|int8, uint8|i1, u1||\n",
    "|int16, uint16|i2, u2||\n",
    "|int32, uint32|i4, u4||\n",
    "|int64, uint64|i8, u8||\n",
    "|float16|f2|半精度|\n",
    "|float32|f4(f)|与C的float兼容|\n",
    "|float64|f8(d)|与C的double和Python的float兼容|\n",
    "|float128|f16(g)|扩展精度浮点数|\n",
    "|complex64, complex128, complex256|c8, c16, c32|数字指实部加虚部总位数|\n",
    "|bool|?||\n",
    "|object|O|python对象|\n",
    "|string_|S|定长字符串|\n",
    "|unicode_|U|定长unicode|"
   ]
  },
  {
   "cell_type": "code",
   "execution_count": 3,
   "metadata": {},
   "outputs": [
    {
     "name": "stdout",
     "output_type": "stream",
     "text": [
      "[2097671064      32735   27537888]\n",
      "[60312 32735 12768]\n"
     ]
    }
   ],
   "source": [
    "# ndarray的astype类型返回当前对象强制类型转换后的新对象的副本\n",
    "a = np.empty(3, dtype='u4')\n",
    "b = a.astype('u2')\n",
    "print(a)\n",
    "print(b)"
   ]
  },
  {
   "cell_type": "markdown",
   "metadata": {},
   "source": [
    "## 数组与标量之间的运算\n",
    "**核心思想是广播(broadcast)机制**"
   ]
  },
  {
   "cell_type": "markdown",
   "metadata": {},
   "source": [
    "## 索引与切片\n"
   ]
  },
  {
   "cell_type": "markdown",
   "metadata": {},
   "source": [
    "### 基本索引与切片\n",
    "\n",
    "- 基本索引功能与原生python类似\n",
    "- 基本索引返回的是原数组的一个**视图**，这么做的原因是在大数据背景下，所以复制对象的开销很大\n",
    "- 如果希望显示的得到副本，使用copy函数\n",
    "- 将一个标量赋值给一个切片时将会激发广播"
   ]
  },
  {
   "cell_type": "code",
   "execution_count": 10,
   "metadata": {},
   "outputs": [
    {
     "name": "stdout",
     "output_type": "stream",
     "text": [
      "array([[  0,   1,   2],\n",
      "       [  3, -10, -10],\n",
      "       [  6,   7,   8]])\n",
      "array([[  0,   1,   2],\n",
      "       [  3, -10, -10],\n",
      "       [  6,   7,   8]])\n"
     ]
    }
   ],
   "source": [
    "a = np.arange(9).reshape(3,3)\n",
    "sub_a1 = a[1:3,1:3] # 对原数组进行切片\n",
    "sub_a1[0:1] = -10  # 对切片进行标量赋值\n",
    "print(a) # 原数组会发生改变\n",
    "\n",
    "sub_a2 = a[1:3,1:3].copy()\n",
    "sub_a2[0:1] = -20\n",
    "print(a)"
   ]
  },
  {
   "cell_type": "markdown",
   "metadata": {},
   "source": [
    "### 布尔型索引\n",
    "- 判断条件可以是复合语句, 使用&或|进行复合，注意不是原声python中的and和or\n",
    "- 布尔型数组的长度必须与被索引的轴长度一致\n",
    "- 可以与切片结合\n",
    "- 注意有一个**where**函数很适合这种工作"
   ]
  },
  {
   "cell_type": "code",
   "execution_count": 16,
   "metadata": {},
   "outputs": [
    {
     "name": "stdout",
     "output_type": "stream",
     "text": [
      "array([[-0.77900714,  0.85692932,  0.12407351],\n",
      "       [-0.4754154 ,  0.26448507,  0.00346701],\n",
      "       [-0.53059334,  1.85303231, -1.56009896]])\n",
      "array([[ True, False, False],\n",
      "       [ True, False, False],\n",
      "       [ True, False, False]], dtype=bool)\n",
      "array([[ 0.        ,  0.85692932,  0.12407351],\n",
      "       [ 0.        ,  0.26448507,  0.00346701],\n",
      "       [ 0.        ,  1.85303231, -1.56009896]])\n"
     ]
    }
   ],
   "source": [
    "a = np.random.randn(3,3)\n",
    "print(a)\n",
    "mask = (a < 0) & (a > -1)\n",
    "print(mask)\n",
    "a[mask] = 0\n",
    "print(a)"
   ]
  },
  {
   "cell_type": "markdown",
   "metadata": {},
   "source": [
    "### 花式索引\n",
    "- Fancy indexing\n",
    "- 利用整数数组进行索引\n",
    "- **返回的是副本**\n",
    "- 有时你可能需要的是**np.ix_**函数，它将两个一位数组转换为一个用于选取方形区域的索引器"
   ]
  },
  {
   "cell_type": "code",
   "execution_count": 24,
   "metadata": {},
   "outputs": [
    {
     "name": "stdout",
     "output_type": "stream",
     "text": [
      "array([[ 0,  1,  2,  3,  4],\n",
      "       [ 5,  6,  7,  8,  9],\n",
      "       [10, 11, 12, 13, 14],\n",
      "       [15, 16, 17, 18, 19],\n",
      "       [20, 21, 22, 23, 24]])\n",
      "array([[ 5,  6,  7,  8,  9],\n",
      "       [15, 16, 17, 18, 19]])\n",
      "array([ 7, 19])\n",
      "array([[ 7,  9],\n",
      "       [17, 19]])\n",
      "array([[ 7,  9],\n",
      "       [17, 19]])\n"
     ]
    }
   ],
   "source": [
    "a = np.arange(25).reshape(5,5)\n",
    "print(a)\n",
    "\n",
    "# example 1\n",
    "sub_a1 = a[[1,3]]\n",
    "print(sub_a1)\n",
    "\n",
    "# example 2\n",
    "sub_a2 = a[[1,3],[2,4]]\n",
    "print(sub_a2)\n",
    "\n",
    "# example 3\n",
    "sub_a3 = a[[1,3]][:,[2,4]]\n",
    "print(sub_a3)\n",
    "\n",
    "# example 4\n",
    "index = np.ix_([1,3],[2,4])\n",
    "sub_a4 = a[index]\n",
    "print(sub_a4)"
   ]
  },
  {
   "cell_type": "markdown",
   "metadata": {},
   "source": [
    "### 数组转置与轴对称\n",
    "- **返回的是视图**\n",
    "- T属性或者tranpose方法\n",
    "- 二维数组怎么用都行，高维数组的tranpose方法接受一个轴编号列表作为参数\n",
    "- 除此之外swapaxes方法接受一对轴编号"
   ]
  },
  {
   "cell_type": "markdown",
   "metadata": {},
   "source": [
    "# 通用函数：快速的元素级数组函数\n",
    "- ufunc\n",
    "- 可以看成是简单函数的矢量化包装\n",
    "- np.vectorize"
   ]
  },
  {
   "cell_type": "markdown",
   "metadata": {},
   "source": [
    "### 一元ufunc\n",
    "\n",
    "|函数|说明|\n",
    "|:----|:----|\n",
    "|abs, fabs|绝对值，对于非复数，fabs更快|\n",
    "|sqrt||\n",
    "|square||\n",
    "|exp||\n",
    "|log, log10, log2, log1p|最后一个是计算log(1+x)|\n",
    "|sign|正负号|\n",
    "|ceil||\n",
    "|floor||\n",
    "|rint|四舍五入，保留dtype|\n",
    "|modf|拆分整数和小数|\n",
    "|isnan||\n",
    "|isfinite, isinf||\n",
    "|cos, cosh, sin, sinh, tan, tanh||\n",
    "|arccos, arccosh, arcsin, arcsinh, arctan, arctanh||\n",
    "|logical_not||"
   ]
  },
  {
   "cell_type": "markdown",
   "metadata": {},
   "source": [
    "### 二元ufunc\n",
    "\n",
    "\n",
    "|函数|说明|\n",
    "|:----|:----|\n",
    "|add||\n",
    "|subtract||\n",
    "|multiply||\n",
    "|divide, floor_divide||\n",
    "|power||\n",
    "|maximum, fmax|fmax忽略NaN|\n",
    "|minimum, fmin|同上|\n",
    "|mod||\n",
    "|copysign|将第二个数组中的符号复制给第一个数组|\n",
    "|greater, greater_equal, less, less_equal, equal, not_equal||\n",
    "|logical_and, logical_or, logical_xor||"
   ]
  },
  {
   "cell_type": "markdown",
   "metadata": {},
   "source": [
    "# 矢量化计算"
   ]
  },
  {
   "cell_type": "markdown",
   "metadata": {},
   "source": [
    "## np.where\n",
    "\n",
    "- 可以通过嵌套完成复杂逻辑（不过可读性堪忧）\n",
    "    - where(condition, where(...), where(...))"
   ]
  },
  {
   "cell_type": "code",
   "execution_count": 26,
   "metadata": {},
   "outputs": [
    {
     "name": "stdout",
     "output_type": "stream",
     "text": [
      "[1, -2, 3, -4, 5]\n",
      "array([ 1, -2,  3, -4,  5])\n"
     ]
    }
   ],
   "source": [
    "# 根据条件从两个list中选择值\n",
    "xarr = np.array([1,2,3,4,5])\n",
    "yarr = np.array([-1,-2,-3,-4,-5])\n",
    "cond = np.array([True, False, True, False, True])\n",
    "\n",
    "# 原生Python\n",
    "result = [(x if c else y) for x,y,c in zip(xarr, yarr, cond)]\n",
    "print(result)\n",
    "\n",
    "# np.where\n",
    "result = np.where(cond, xarr, yarr)\n",
    "print(result)\n"
   ]
  },
  {
   "cell_type": "markdown",
   "metadata": {},
   "source": [
    "### 统计函数\n",
    "\n",
    "|方法|说明|\n",
    "|:---|:---|\n",
    "|sum|接受参数指定计算轴|\n",
    "|mean||\n",
    "|std, var|标准差和方差, 参数为自由度|\n",
    "|min, max||\n",
    "|argmin, argmax||\n",
    "|cumsum|累积和，接收参数指定计算轴|\n",
    "|cumprod|累计积|"
   ]
  },
  {
   "cell_type": "code",
   "execution_count": 28,
   "metadata": {},
   "outputs": [
    {
     "name": "stdout",
     "output_type": "stream",
     "text": [
      "array([[0, 1, 2],\n",
      "       [3, 4, 5],\n",
      "       [6, 7, 8]])\n",
      "array([[ 0,  1,  2],\n",
      "       [ 3,  5,  7],\n",
      "       [ 9, 12, 15]])\n",
      "array([[  0,   0,   0],\n",
      "       [  3,  12,  60],\n",
      "       [  6,  42, 336]])\n"
     ]
    }
   ],
   "source": [
    "a = np.arange(9).reshape(3,3)\n",
    "print(a)\n",
    "\n",
    "print(a.cumsum(0))\n",
    "print(a.cumprod(1))"
   ]
  },
  {
   "cell_type": "markdown",
   "metadata": {},
   "source": [
    "### bool数组\n",
    "- 对bool数组应用统计函数会强制转换为0和1\n",
    "- sum(), any(), all()"
   ]
  },
  {
   "cell_type": "markdown",
   "metadata": {},
   "source": [
    "### 排序\n",
    "- 可以指定排序轴\n",
    "- 顶级方法返回副本， 就地排序会修改数组本身，没有返回值\n"
   ]
  },
  {
   "cell_type": "code",
   "execution_count": 30,
   "metadata": {},
   "outputs": [
    {
     "name": "stdout",
     "output_type": "stream",
     "text": [
      "-0.77502222906197837\n"
     ]
    }
   ],
   "source": [
    "# 取四分之一分位数\n",
    "a = np.random.randn(100)\n",
    "print(np.sort(a)[int(0.25 * len(a))])"
   ]
  },
  {
   "cell_type": "markdown",
   "metadata": {},
   "source": [
    "### 集合逻辑\n",
    "\n",
    "|方法|说明|\n",
    "|:----|:----|\n",
    "|unique(x)|去除冗余并排序|\n",
    "|intersect1d(x,y)|交集并排序|\n",
    "|union1d(x,y)|并集并排序|\n",
    "|in1d(x,y)|x的元素是否在y中|\n",
    "|setdiff1d(x,y)|集合差|\n",
    "|setxor1d(x,y)|对称差|"
   ]
  },
  {
   "cell_type": "code",
   "execution_count": 34,
   "metadata": {},
   "outputs": [
    {
     "name": "stdout",
     "output_type": "stream",
     "text": [
      "'intersect'\n",
      "array([1, 3, 5])\n",
      "'union'\n",
      "array([1, 2, 3, 4, 5, 7, 9])\n",
      "'x in y'\n",
      "array([ True, False,  True, False,  True], dtype=bool)\n",
      "'x - y'\n",
      "array([2, 4])\n",
      "'(x - y) union (y - x)'\n",
      "array([2, 4, 7, 9])\n"
     ]
    }
   ],
   "source": [
    "x = np.array([1,2,3,4,5])\n",
    "y = np.array([1,3,5,7,9])\n",
    "\n",
    "print(\"intersect\")\n",
    "print(np.intersect1d(x,y))\n",
    "\n",
    "print(\"union\")\n",
    "print(np.union1d(x,y))\n",
    "\n",
    "print(\"x in y\")\n",
    "print(np.in1d(x,y))\n",
    "\n",
    "print(\"x - y\")\n",
    "print(np.setdiff1d(x,y))\n",
    "\n",
    "print(\"(x - y) union (y - x)\")\n",
    "print(np.setxor1d(x,y))"
   ]
  },
  {
   "cell_type": "code",
   "execution_count": 35,
   "metadata": {
    "collapsed": true
   },
   "outputs": [],
   "source": [
    "a = np.arange(9).reshape(3,3)\n",
    "np.save(\"1111\", a)"
   ]
  },
  {
   "cell_type": "markdown",
   "metadata": {},
   "source": [
    "# 用于数组的文件输入输出\n",
    "\n"
   ]
  },
  {
   "cell_type": "markdown",
   "metadata": {},
   "source": [
    "## 保存数组\n",
    "- 以二进制方式保存\n",
    "- np.save保存单个数组，np.savez保存多个数组\n",
    "- np.load读取数组"
   ]
  },
  {
   "cell_type": "code",
   "execution_count": 41,
   "metadata": {},
   "outputs": [
    {
     "name": "stdout",
     "output_type": "stream",
     "text": [
      "array([0, 1, 2, 3, 4])\n",
      "array([0, 1, 2, 3, 4])\n",
      "array([ 0.09579683,  0.14722152,  0.87056354,  0.33845606, -0.2258633 ])\n"
     ]
    }
   ],
   "source": [
    "a = np.arange(5)\n",
    "b = np.random.randn(5)\n",
    "np.save(\"tmpfile1\",a)\n",
    "np.savez(\"tmpfile2\",a=a, b=b)\n",
    "\n",
    "print(np.load(\"tmpfile1.npy\"))\n",
    "c = np.load(\"tmpfile2.npz\")\n",
    "print(c['a'])\n",
    "print(c['b'])"
   ]
  },
  {
   "cell_type": "markdown",
   "metadata": {},
   "source": [
    "## 存取文本\n",
    "- pandas中有read_xxx系列函数\n",
    "- np.loadtxt读取csv文件\n",
    "- np.genfromtxt面向结构化数组和缺失数据处理"
   ]
  },
  {
   "cell_type": "code",
   "execution_count": 46,
   "metadata": {},
   "outputs": [
    {
     "name": "stdout",
     "output_type": "stream",
     "text": [
      "array([[  0.,   1.,   2.,   3.,   4.],\n",
      "       [  5.,   6.,   7.,   8.,   9.],\n",
      "       [ 10.,  11.,  12.,  13.,  14.],\n",
      "       [ 15.,  16.,  17.,  18.,  19.],\n",
      "       [ 20.,  21.,  22.,  23.,  24.]])\n"
     ]
    }
   ],
   "source": [
    "a = np.arange(25).reshape(5,5)\n",
    "np.savetxt(\"tmpfile3\", delimiter=\",\", X=a)\n",
    "print(np.loadtxt(\"tmpfile3\", delimiter=','))"
   ]
  },
  {
   "cell_type": "markdown",
   "metadata": {},
   "source": [
    "# 线性代数\n",
    "- numpy.linalg中有一组标准的矩阵分解运算以及诸如求逆和行列式之类的运算，他们与matlab和R等语言所使用的是相同的行业标准级Fortran库， 如BLAS/LAPACK\n",
    "\n",
    "|函数|说明|\n",
    "|:----|:---|\n",
    "|diag|一维数组与对角矩阵之间相互转换|\n",
    "|dot|矩阵乘法|\n",
    "|trace|迹|\n",
    "|det|行列式|\n",
    "|eig|特征分解|\n",
    "|inv|逆|\n",
    "|pinv|Moore-Penrose逆|\n",
    "|qr|QR分解|\n",
    "|svd|SVD|\n",
    "|solve|解线性方程|\n",
    "|lstsq|解最小二乘|"
   ]
  },
  {
   "cell_type": "code",
   "execution_count": 48,
   "metadata": {},
   "outputs": [
    {
     "name": "stdout",
     "output_type": "stream",
     "text": [
      "array([[ 1.,  0., -0., -0.,  0.],\n",
      "       [-0.,  1.,  0.,  0., -0.],\n",
      "       [-0., -0.,  1., -0.,  0.],\n",
      "       [ 0.,  0.,  0.,  1., -0.],\n",
      "       [-0., -0.,  0.,  0.,  1.]])\n",
      "array([[-0.04357576, -0.20826332, -0.12722952,  0.92928952,  0.27379039],\n",
      "       [-0.61291164, -0.43147156,  0.42793422,  0.08005993, -0.49863246],\n",
      "       [ 0.53323915, -0.35073165, -0.37986045,  0.08988586, -0.66352836],\n",
      "       [-0.56755708, -0.0266766 , -0.8101692 , -0.14418065,  0.00226684],\n",
      "       [ 0.12639402, -0.80419796, -0.00410665, -0.31803123,  0.48593155]])\n"
     ]
    }
   ],
   "source": [
    "# 基本矩阵运算\n",
    "a = np.random.randn(5,5)\n",
    "print(np.rint(a.dot(np.linalg.inv(a))))\n",
    "\n",
    "# QR分解\n",
    "q, r = np.linalg.qr(a)\n",
    "print(q)"
   ]
  },
  {
   "cell_type": "markdown",
   "metadata": {},
   "source": [
    "# 随机数\n",
    "\n",
    "|函数|说明|\n",
    "|:---|:---|\n",
    "|seed||\n",
    "|permutation|返回一个随机**置换**|\n",
    "|shuffle|对一个序列就地排列|\n",
    "|rand|均匀分布|\n",
    "|randint|给定上下限，随机选取整数|\n",
    "|randn|正态分布|\n",
    "|binomial|二项分布|\n",
    "|normal|正态分布|\n",
    "|beta|beta分布|\n",
    "|chisquare|卡方分布|\n",
    "|gamma|Gamma分布|\n",
    "|uniform|(0,1)之间均匀分布|"
   ]
  },
  {
   "cell_type": "code",
   "execution_count": null,
   "metadata": {
    "collapsed": true
   },
   "outputs": [],
   "source": []
  }
 ],
 "metadata": {
  "kernelspec": {
   "display_name": "Python 3",
   "language": "python",
   "name": "python3"
  },
  "language_info": {
   "codemirror_mode": {
    "name": "ipython",
    "version": 3
   },
   "file_extension": ".py",
   "mimetype": "text/x-python",
   "name": "python",
   "nbconvert_exporter": "python",
   "pygments_lexer": "ipython3",
   "version": "3.5.2"
  }
 },
 "nbformat": 4,
 "nbformat_minor": 2
}
